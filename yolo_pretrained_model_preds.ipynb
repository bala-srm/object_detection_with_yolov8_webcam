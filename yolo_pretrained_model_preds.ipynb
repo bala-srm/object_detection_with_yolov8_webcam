{
 "cells": [
  {
   "cell_type": "code",
   "execution_count": 15,
   "id": "initial_id",
   "metadata": {
    "collapsed": true,
    "ExecuteTime": {
     "end_time": "2024-02-08T12:36:31.318610Z",
     "start_time": "2024-02-08T12:36:31.312874Z"
    }
   },
   "outputs": [],
   "source": [
    "from ultralytics import YOLO\n",
    "import warnings\n",
    "warnings.filterwarnings(\"ignore\")"
   ]
  },
  {
   "cell_type": "code",
   "outputs": [],
   "source": [
    "\n",
    "model = YOLO(\"yolov8n.pt\")"
   ],
   "metadata": {
    "collapsed": false,
    "ExecuteTime": {
     "end_time": "2024-02-08T12:36:34.349154Z",
     "start_time": "2024-02-08T12:36:34.313216Z"
    }
   },
   "id": "bb19eddc4f9e390f",
   "execution_count": 16
  },
  {
   "cell_type": "code",
   "outputs": [
    {
     "name": "stdout",
     "output_type": "stream",
     "text": [
      "image 1/1 /Users/balaji/Library/CloudStorage/GoogleDrive-bala@python4u.in/My Drive/Balaji Personal/Pytorch/torch_learn_udemy/learn_torch/bus.jpg: 640x480 4 persons, 1 bus, 1 stop sign, 71.9ms\n",
      "Speed: 2.1ms preprocess, 71.9ms inference, 1.0ms postprocess per image at shape (1, 3, 640, 480)\n"
     ]
    },
    {
     "data": {
      "text/plain": "[ultralytics.engine.results.Results object with attributes:\n \n boxes: ultralytics.engine.results.Boxes object\n keypoints: None\n masks: None\n names: {0: 'person', 1: 'bicycle', 2: 'car', 3: 'motorcycle', 4: 'airplane', 5: 'bus', 6: 'train', 7: 'truck', 8: 'boat', 9: 'traffic light', 10: 'fire hydrant', 11: 'stop sign', 12: 'parking meter', 13: 'bench', 14: 'bird', 15: 'cat', 16: 'dog', 17: 'horse', 18: 'sheep', 19: 'cow', 20: 'elephant', 21: 'bear', 22: 'zebra', 23: 'giraffe', 24: 'backpack', 25: 'umbrella', 26: 'handbag', 27: 'tie', 28: 'suitcase', 29: 'frisbee', 30: 'skis', 31: 'snowboard', 32: 'sports ball', 33: 'kite', 34: 'baseball bat', 35: 'baseball glove', 36: 'skateboard', 37: 'surfboard', 38: 'tennis racket', 39: 'bottle', 40: 'wine glass', 41: 'cup', 42: 'fork', 43: 'knife', 44: 'spoon', 45: 'bowl', 46: 'banana', 47: 'apple', 48: 'sandwich', 49: 'orange', 50: 'broccoli', 51: 'carrot', 52: 'hot dog', 53: 'pizza', 54: 'donut', 55: 'cake', 56: 'chair', 57: 'couch', 58: 'potted plant', 59: 'bed', 60: 'dining table', 61: 'toilet', 62: 'tv', 63: 'laptop', 64: 'mouse', 65: 'remote', 66: 'keyboard', 67: 'cell phone', 68: 'microwave', 69: 'oven', 70: 'toaster', 71: 'sink', 72: 'refrigerator', 73: 'book', 74: 'clock', 75: 'vase', 76: 'scissors', 77: 'teddy bear', 78: 'hair drier', 79: 'toothbrush'}\n obb: None\n orig_img: array([[[122, 148, 172],\n         [120, 146, 170],\n         [125, 153, 177],\n         ...,\n         [157, 170, 184],\n         [158, 171, 185],\n         [158, 171, 185]],\n \n        [[127, 153, 177],\n         [124, 150, 174],\n         [127, 155, 179],\n         ...,\n         [158, 171, 185],\n         [159, 172, 186],\n         [159, 172, 186]],\n \n        [[128, 154, 178],\n         [126, 152, 176],\n         [126, 154, 178],\n         ...,\n         [158, 171, 185],\n         [158, 171, 185],\n         [158, 171, 185]],\n \n        ...,\n \n        [[185, 185, 191],\n         [182, 182, 188],\n         [179, 179, 185],\n         ...,\n         [114, 107, 112],\n         [115, 105, 111],\n         [116, 106, 112]],\n \n        [[157, 157, 163],\n         [180, 180, 186],\n         [185, 186, 190],\n         ...,\n         [107,  97, 103],\n         [102,  92,  98],\n         [108,  98, 104]],\n \n        [[112, 112, 118],\n         [160, 160, 166],\n         [169, 170, 174],\n         ...,\n         [ 99,  89,  95],\n         [ 96,  86,  92],\n         [102,  92,  98]]], dtype=uint8)\n orig_shape: (1080, 810)\n path: '/Users/balaji/Library/CloudStorage/GoogleDrive-bala@python4u.in/My Drive/Balaji Personal/Pytorch/torch_learn_udemy/learn_torch/bus.jpg'\n probs: None\n save_dir: None\n speed: {'preprocess': 2.089977264404297, 'inference': 71.9139575958252, 'postprocess': 1.0309219360351562}]"
     },
     "execution_count": 17,
     "metadata": {},
     "output_type": "execute_result"
    }
   ],
   "source": [
    "# predict on an image\n",
    "model.predict(\"bus.jpg\") # replace \"bus.jpg\" with your image path"
   ],
   "metadata": {
    "collapsed": false,
    "ExecuteTime": {
     "end_time": "2024-02-08T12:36:35.702025Z",
     "start_time": "2024-02-08T12:36:35.488901Z"
    }
   },
   "id": "b8bdd437fa2fade3",
   "execution_count": 17
  },
  {
   "cell_type": "code",
   "outputs": [],
   "source": [],
   "metadata": {
    "collapsed": false
   },
   "id": "c3fd438f959a2532"
  }
 ],
 "metadata": {
  "kernelspec": {
   "display_name": "Python 3",
   "language": "python",
   "name": "python3"
  },
  "language_info": {
   "codemirror_mode": {
    "name": "ipython",
    "version": 2
   },
   "file_extension": ".py",
   "mimetype": "text/x-python",
   "name": "python",
   "nbconvert_exporter": "python",
   "pygments_lexer": "ipython2",
   "version": "2.7.6"
  }
 },
 "nbformat": 4,
 "nbformat_minor": 5
}
